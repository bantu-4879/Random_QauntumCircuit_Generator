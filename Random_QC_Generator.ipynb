{
 "cells": [
  {
   "cell_type": "code",
   "execution_count": 2,
   "id": "ed923f1b-cfe3-46dc-8a6f-b48d6005579e",
   "metadata": {},
   "outputs": [
    {
     "data": {
      "image/png": "[encoded data removed]",
      "text/plain": [
       "<Figure size 568.197x325.08 with 1 Axes>"
      ]
     },
     "execution_count": 2,
     "metadata": {},
     "output_type": "execute_result"
    }
   ],
   "source": [
    "from qiskit import QuantumCircuit\n",
    "from qiskit.circuit import Parameter\n",
    "import random\n",
    "\n",
    "def random_quantum_circuit(qubit_count, depth, base_gates):\n",
    "    \n",
    "    circuit = QuantumCircuit(qubit_count)\n",
    "    # If 1 qubit circuit \n",
    "    if qubit_count == 1:\n",
    "        for i in range(depth):\n",
    "            gate = random.choice(base_gates[\"1q\"])\n",
    "            circuit.append(gate, [0])\n",
    "    else:\n",
    "    # Generate random gates for each depth\n",
    "        for i in range(depth):\n",
    "            for j in range(qubit_count):\n",
    "                # Generate random single-qubit gate\n",
    "                if random.random() < 0.5:\n",
    "                    gate = random.choice(base_gates[\"1q\"])\n",
    "                    circuit.append(gate, [j])\n",
    "\n",
    "                # Generate random two-qubit gate\n",
    "                else:\n",
    "                    qubit_choices = list(range(qubit_count))\n",
    "                    q1, q2 = random.sample(qubit_choices, k=2)\n",
    "                    gate = random.choice(base_gates[\"2q\"])\n",
    "                    circuit.append(gate, [q1, q2])\n",
    "\n",
    "    return circuit\n",
    "\n",
    "#Example\n",
    "\n",
    "from qiskit import Aer, execute\n",
    "from qiskit.circuit.library import XGate, YGate, ZGate, HGate, CXGate, UGate\n",
    "\n",
    "# Define the number of qubits, depth, and base gates\n",
    "qubit_count = 5\n",
    "depth = 2\n",
    "base_gates = {\"1q\": [XGate(), YGate(), ZGate(), HGate()], \"2q\": [CXGate()]}\n",
    "\n",
    "# Generate the random quantum circuit\n",
    "circuit = random_quantum_circuit(qubit_count, depth, base_gates)\n",
    "circuit.draw()\n"
   ]
  }
 ],
 "metadata": {
  "kernelspec": {
   "display_name": "Python 3 (ipykernel)",
   "language": "python",
   "name": "python3"
  },
  "language_info": {
   "codemirror_mode": {
    "name": "ipython",
    "version": 3
   },
   "file_extension": ".py",
   "mimetype": "text/x-python",
   "name": "python",
   "nbconvert_exporter": "python",
   "pygments_lexer": "ipython3",
   "version": "3.8.12"
  },
  "widgets": {
   "application/vnd.jupyter.widget-state+json": {
    "state": {
     "19d6cb9bb30c4dc5af0af7ac717fd0cc": {
      "model_module": "@jupyter-widgets/base",
      "model_module_version": "1.2.0",
      "model_name": "LayoutModel",
      "state": {
       "width": "70px"
      }
     },
     "2b5b33ef583d4076b0a1950161f2763a": {
      "model_module": "@jupyter-widgets/base",
      "model_module_version": "1.2.0",
      "model_name": "LayoutModel",
      "state": {
       "margin": "0px 0px 0px 37px",
       "width": "600px"
      }
     },
     "2fe623191f2946d2a6087e88de83e977": {
      "model_module": "@jupyter-widgets/controls",
      "model_module_version": "1.5.0",
      "model_name": "GridBoxModel",
      "state": {
       "children": [
        "IPY_MODEL_53cc590685d34bed9b6679467dc44c4b"
       ],
       "layout": "IPY_MODEL_71c5e4faca3f442593cf1befa9a6d3f5"
      }
     },
     "368c2e6bdf66471fbec517aab9f354a5": {
      "model_module": "@jupyter-widgets/controls",
      "model_module_version": "1.5.0",
      "model_name": "HTMLModel",
      "state": {
       "layout": "IPY_MODEL_8eb462ff22534ff883ff0d6478322090",
       "style": "IPY_MODEL_fe7255cf73c147bda040218cea1d6ac8",
       "value": "<h5>Message</h5>"
      }
     },
     "3dba24875d6d483dad6168c65e6bd8c0": {
      "model_module": "@jupyter-widgets/base",
      "model_module_version": "1.2.0",
      "model_name": "LayoutModel",
      "state": {
       "margin": "0px 0px 10px 0px"
      }
     },
     "3f852326fc194927b36438cd249b4a0f": {
      "model_module": "@jupyter-widgets/controls",
      "model_module_version": "1.5.0",
      "model_name": "HTMLModel",
      "state": {
       "layout": "IPY_MODEL_fe70c7712665483c8744cb16d4c44ba3",
       "style": "IPY_MODEL_575de88ac2ad493da17f69da17028f47",
       "value": "<h5>Job ID</h5>"
      }
     },
     "46399f3358db40128d1a0818b105e77c": {
      "model_module": "@jupyter-widgets/controls",
      "model_module_version": "1.5.0",
      "model_name": "HBoxModel",
      "state": {
       "children": [
        "IPY_MODEL_3f852326fc194927b36438cd249b4a0f",
        "IPY_MODEL_ded70e6359ef46c38a791bf5ff66a34f",
        "IPY_MODEL_7d233111b0724b39b7c0f85ac91069bc",
        "IPY_MODEL_df9d08dc6ff24d4784d840a2417323f2",
        "IPY_MODEL_368c2e6bdf66471fbec517aab9f354a5"
       ],
       "layout": "IPY_MODEL_2b5b33ef583d4076b0a1950161f2763a"
      }
     },
     "53cc590685d34bed9b6679467dc44c4b": {
      "model_module": "@jupyter-widgets/controls",
      "model_module_version": "1.5.0",
      "model_name": "ButtonModel",
      "state": {
       "button_style": "primary",
       "description": "Clear",
       "layout": "IPY_MODEL_789b520627e44bb69905c629a4e39721",
       "style": "IPY_MODEL_5d90e8b8bb67411886a01fd4f688048b"
      }
     },
     "575de88ac2ad493da17f69da17028f47": {
      "model_module": "@jupyter-widgets/controls",
      "model_module_version": "1.5.0",
      "model_name": "DescriptionStyleModel",
      "state": {
       "description_width": ""
      }
     },
     "5d90e8b8bb67411886a01fd4f688048b": {
      "model_module": "@jupyter-widgets/controls",
      "model_module_version": "1.5.0",
      "model_name": "ButtonStyleModel",
      "state": {}
     },
     "71c5e4faca3f442593cf1befa9a6d3f5": {
      "model_module": "@jupyter-widgets/base",
      "model_module_version": "1.2.0",
      "model_name": "LayoutModel",
      "state": {
       "grid_template_areas": "\n                                       \". . . . right \"\n                                        ",
       "grid_template_columns": "20% 20% 20% 20% 20%",
       "width": "100%"
      }
     },
     "789b520627e44bb69905c629a4e39721": {
      "model_module": "@jupyter-widgets/base",
      "model_module_version": "1.2.0",
      "model_name": "LayoutModel",
      "state": {
       "grid_area": "right",
       "padding": "0px 0px 0px 0px",
       "width": "70px"
      }
     },
     "7d233111b0724b39b7c0f85ac91069bc": {
      "model_module": "@jupyter-widgets/controls",
      "model_module_version": "1.5.0",
      "model_name": "HTMLModel",
      "state": {
       "layout": "IPY_MODEL_d708c33f60764fa0800aca4a5b30c7e7",
       "style": "IPY_MODEL_9e1a3be8645140978291a6e71916994c",
       "value": "<h5>Status</h5>"
      }
     },
     "8000110b50e14b38ab05428b64a149b5": {
      "model_module": "@jupyter-widgets/controls",
      "model_module_version": "1.5.0",
      "model_name": "HTMLModel",
      "state": {
       "layout": "IPY_MODEL_3dba24875d6d483dad6168c65e6bd8c0",
       "style": "IPY_MODEL_cdca38d9ede044e4b2b7addc97e38f82",
       "value": "<p style='font-family: IBM Plex Sans, Arial, Helvetica, sans-serif; font-size: 20px; font-weight: medium;'>Circuit Properties</p>"
      }
     },
     "8eb462ff22534ff883ff0d6478322090": {
      "model_module": "@jupyter-widgets/base",
      "model_module_version": "1.2.0",
      "model_name": "LayoutModel",
      "state": {}
     },
     "9e1a3be8645140978291a6e71916994c": {
      "model_module": "@jupyter-widgets/controls",
      "model_module_version": "1.5.0",
      "model_name": "DescriptionStyleModel",
      "state": {
       "description_width": ""
      }
     },
     "cd0e6c39e9e74126928ebe2d37cf551b": {
      "model_module": "@jupyter-widgets/controls",
      "model_module_version": "1.5.0",
      "model_name": "DescriptionStyleModel",
      "state": {
       "description_width": ""
      }
     },
     "cdca38d9ede044e4b2b7addc97e38f82": {
      "model_module": "@jupyter-widgets/controls",
      "model_module_version": "1.5.0",
      "model_name": "DescriptionStyleModel",
      "state": {
       "description_width": ""
      }
     },
     "d708c33f60764fa0800aca4a5b30c7e7": {
      "model_module": "@jupyter-widgets/base",
      "model_module_version": "1.2.0",
      "model_name": "LayoutModel",
      "state": {
       "width": "95px"
      }
     },
     "ded70e6359ef46c38a791bf5ff66a34f": {
      "model_module": "@jupyter-widgets/controls",
      "model_module_version": "1.5.0",
      "model_name": "HTMLModel",
      "state": {
       "layout": "IPY_MODEL_e8505fb7e5354ae5b395b160e15fc026",
       "style": "IPY_MODEL_cd0e6c39e9e74126928ebe2d37cf551b",
       "value": "<h5>Backend</h5>"
      }
     },
     "df9d08dc6ff24d4784d840a2417323f2": {
      "model_module": "@jupyter-widgets/controls",
      "model_module_version": "1.5.0",
      "model_name": "HTMLModel",
      "state": {
       "layout": "IPY_MODEL_19d6cb9bb30c4dc5af0af7ac717fd0cc",
       "style": "IPY_MODEL_e8b6262c366d4cc78bbcf29bc6a8baea",
       "value": "<h5>Queue</h5>"
      }
     },
     "e8505fb7e5354ae5b395b160e15fc026": {
      "model_module": "@jupyter-widgets/base",
      "model_module_version": "1.2.0",
      "model_name": "LayoutModel",
      "state": {
       "width": "145px"
      }
     },
     "e8b6262c366d4cc78bbcf29bc6a8baea": {
      "model_module": "@jupyter-widgets/controls",
      "model_module_version": "1.5.0",
      "model_name": "DescriptionStyleModel",
      "state": {
       "description_width": ""
      }
     },
     "fe70c7712665483c8744cb16d4c44ba3": {
      "model_module": "@jupyter-widgets/base",
      "model_module_version": "1.2.0",
      "model_name": "LayoutModel",
      "state": {
       "width": "190px"
      }
     },
     "fe7255cf73c147bda040218cea1d6ac8": {
      "model_module": "@jupyter-widgets/controls",
      "model_module_version": "1.5.0",
      "model_name": "DescriptionStyleModel",
      "state": {
       "description_width": ""
      }
     }
    },
    "version_major": 2,
    "version_minor": 0
   }
  }
 },
 "nbformat": 4,
 "nbformat_minor": 5
}
